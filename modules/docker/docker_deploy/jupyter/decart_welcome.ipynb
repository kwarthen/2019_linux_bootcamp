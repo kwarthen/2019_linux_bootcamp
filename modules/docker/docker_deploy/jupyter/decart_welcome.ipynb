{
 "cells": [
  {
   "cell_type": "markdown",
   "metadata": {},
   "source": [
    "<html>\n",
    "<table width=\"100%\" cellspacing=\"2\" cellpadding=\"2\" border=\"1\">\n",
    "<tbody>\n",
    "<tr>\n",
    "<td valign=\"center\" align=\"center\" width=\"25%\"><img src=\"./media/decartes.jpg\"\n",
    "alt=\"DeCART Icon\" width=\"128\" height=\"171\"><br>\n",
    "</td>\n",
    "<td valign=\"center\" align=\"center\" width=\"75%\">\n",
    "<h1 align=\"center\"><font size=\"+1\">DeCART Summer School</font></h1></td>\n",
    "<td valign=\"center\" align=\"center\" width=\"25%\"><img\n",
    "src=\"./media/U_Health_stacked_png_red.png\" alt=\"Utah Health\n",
    "Logo\" width=\"128\" height=\"134\"><br>\n",
    "</td>\n",
    "</tr>\n",
    "</tbody>\n",
    "</table>\n",
    "<br>\n",
    "</html>\n",
    "\n",
    "# Welcome to the 2019 DeCART Summer School\n",
    "\n",
    "We are excited to have you join us in Salt Lake City for our biomedical data science summer school. We have an exciting selection of classes as well as speakers to introduce you to current topics in healthcare, biology, and data science.\n",
    "\n",
    "Brian E. Chapman, Ph.D.  \n",
    "Matthew H. Samore, M.D.  \n",
    "\n",
    "Directors, DeCART Summer School"
   ]
  },
  {
   "cell_type": "markdown",
   "metadata": {},
   "source": [
    "<a rel=\"license\" href=\"http://creativecommons.org/licenses/by-nc-sa/4.0/\"><img alt=\"Creative Commons License\" style=\"border-width:0\" src=\"https://i.creativecommons.org/l/by-nc-sa/4.0/88x31.png\" /></a><br /><span xmlns:dct=\"http://purl.org/dc/terms/\" property=\"dct:title\">University of Utah DeCART Summer School for Biomedical Data Science.</span>\n",
    "\n",
    "<span xmlns:cc=\"http://creativecommons.org/ns#\" property=\"cc:attributionName\">&copy; Brian E. Chapman and Matthew H. Samore</span>. This material is licensed under a <a rel=\"license\" href=\"http://creativecommons.org/licenses/by-nc-sa/4.0/\">Creative Commons Attribution-NonCommercial-ShareAlike 4.0 International License</a>."
   ]
  },
  {
   "cell_type": "code",
   "execution_count": null,
   "metadata": {},
   "outputs": [],
   "source": []
  }
 ],
 "metadata": {
  "kernelspec": {
   "display_name": "Python 3",
   "language": "python",
   "name": "python3"
  },
  "language_info": {
   "codemirror_mode": {
    "name": "ipython",
    "version": 3
   },
   "file_extension": ".py",
   "mimetype": "text/x-python",
   "name": "python",
   "nbconvert_exporter": "python",
   "pygments_lexer": "ipython3",
   "version": "3.7.2"
  }
 },
 "nbformat": 4,
 "nbformat_minor": 2
}
